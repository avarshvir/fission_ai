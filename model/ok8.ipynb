{
  "cells": [
    {
      "cell_type": "code",
      "execution_count": null,
      "metadata": {
        "colab": {
          "base_uri": "https://localhost:8080/"
        },
        "id": "bMSEQo8ix0dn",
        "outputId": "d084129a-d19c-4558-c2eb-cfe8bb85b727"
      },
      "outputs": [
        {
          "name": "stdout",
          "output_type": "stream",
          "text": [
            "\u001b[2K   \u001b[90m━━━━━━━━━━━━━━━━━━━━━━━━━━━━━━━━━━━━━━━━\u001b[0m \u001b[32m363.4/363.4 MB\u001b[0m \u001b[31m1.4 MB/s\u001b[0m eta \u001b[36m0:00:00\u001b[0m\n",
            "\u001b[2K   \u001b[90m━━━━━━━━━━━━━━━━━━━━━━━━━━━━━━━━━━━━━━━━\u001b[0m \u001b[32m13.8/13.8 MB\u001b[0m \u001b[31m115.6 MB/s\u001b[0m eta \u001b[36m0:00:00\u001b[0m\n",
            "\u001b[2K   \u001b[90m━━━━━━━━━━━━━━━━━━━━━━━━━━━━━━━━━━━━━━━━\u001b[0m \u001b[32m24.6/24.6 MB\u001b[0m \u001b[31m92.1 MB/s\u001b[0m eta \u001b[36m0:00:00\u001b[0m\n",
            "\u001b[2K   \u001b[90m━━━━━━━━━━━━━━━━━━━━━━━━━━━━━━━━━━━━━━━━\u001b[0m \u001b[32m883.7/883.7 kB\u001b[0m \u001b[31m56.4 MB/s\u001b[0m eta \u001b[36m0:00:00\u001b[0m\n",
            "\u001b[2K   \u001b[90m━━━━━━━━━━━━━━━━━━━━━━━━━━━━━━━━━━━━━━━━\u001b[0m \u001b[32m664.8/664.8 MB\u001b[0m \u001b[31m1.5 MB/s\u001b[0m eta \u001b[36m0:00:00\u001b[0m\n",
            "\u001b[2K   \u001b[90m━━━━━━━━━━━━━━━━━━━━━━━━━━━━━━━━━━━━━━━━\u001b[0m \u001b[32m211.5/211.5 MB\u001b[0m \u001b[31m5.5 MB/s\u001b[0m eta \u001b[36m0:00:00\u001b[0m\n",
            "\u001b[2K   \u001b[90m━━━━━━━━━━━━━━━━━━━━━━━━━━━━━━━━━━━━━━━━\u001b[0m \u001b[32m56.3/56.3 MB\u001b[0m \u001b[31m13.1 MB/s\u001b[0m eta \u001b[36m0:00:00\u001b[0m\n",
            "\u001b[2K   \u001b[90m━━━━━━━━━━━━━━━━━━━━━━━━━━━━━━━━━━━━━━━━\u001b[0m \u001b[32m127.9/127.9 MB\u001b[0m \u001b[31m7.4 MB/s\u001b[0m eta \u001b[36m0:00:00\u001b[0m\n",
            "\u001b[2K   \u001b[90m━━━━━━━━━━━━━━━━━━━━━━━━━━━━━━━━━━━━━━━━\u001b[0m \u001b[32m207.5/207.5 MB\u001b[0m \u001b[31m5.9 MB/s\u001b[0m eta \u001b[36m0:00:00\u001b[0m\n",
            "\u001b[2K   \u001b[90m━━━━━━━━━━━━━━━━━━━━━━━━━━━━━━━━━━━━━━━━\u001b[0m \u001b[32m21.1/21.1 MB\u001b[0m \u001b[31m75.9 MB/s\u001b[0m eta \u001b[36m0:00:00\u001b[0m\n",
            "\u001b[?25h"
          ]
        }
      ],
      "source": [
        "# Install dependencies\n",
        "!pip install flask pyngrok diffusers transformers accelerate torch torchvision --quiet"
      ]
    },
    {
      "cell_type": "code",
      "execution_count": null,
      "metadata": {
        "colab": {
          "base_uri": "https://localhost:8080/"
        },
        "id": "gnUVhpq9x77P",
        "outputId": "0f03ea62-e042-4b83-e8cb-1dcb5c7de5a8"
      },
      "outputs": [
        {
          "name": "stdout",
          "output_type": "stream",
          "text": [
            "Mounted at /content/drive\n"
          ]
        }
      ],
      "source": [
        "from google.colab import drive\n",
        "drive.mount('/content/drive')"
      ]
    },
    {
      "cell_type": "code",
      "execution_count": null,
      "metadata": {
        "id": "baKsmeZnyAa0"
      },
      "outputs": [],
      "source": [
        "# --- Imports ---\n",
        "import torch\n",
        "from flask import Flask, request, jsonify, send_file\n",
        "from pyngrok import ngrok\n",
        "import shutil\n",
        "import zipfile\n",
        "import os\n",
        "from PIL import Image\n",
        "from diffusers import StableDiffusionPipeline\n",
        "from transformers import BlipProcessor, BlipForConditionalGeneration\n",
        "from google.colab import drive # Add this import\n"
      ]
    },
    {
      "cell_type": "code",
      "execution_count": null,
      "metadata": {
        "id": "c1HAYL68yBPl"
      },
      "outputs": [],
      "source": [
        "# --- Config ---\n",
        "NGROK_AUTH_TOKEN = \"2xOpSOwfAEaxfqjqUkxfuu4P6zCcWDk\"  # 🔐 Replace with your actual token"
      ]
    },
    {
      "cell_type": "code",
      "execution_count": null,
      "metadata": {
        "id": "kwqlFbzfAeti"
      },
      "outputs": [],
      "source": [
        "# Authenticate ngrok\n",
        "ngrok.set_auth_token(NGROK_AUTH_TOKEN)"
      ]
    },
    {
      "cell_type": "code",
      "execution_count": null,
      "metadata": {
        "colab": {
          "base_uri": "https://localhost:8080/",
          "height": 153,
          "referenced_widgets": [
            "528930c3714e46b1921afd2828ab25e7",
            "07978e494b4648b2adffc86dd58f3714",
            "640cba1007e64cfca481ce5f8a8171b4",
            "d8adbe355ebe4001a504fcf37b99209c",
            "b0517c51eaf5461bbfbc9485463df8aa",
            "aa6b5104398f451d959cbbe8b7350ecd",
            "3d66ee84458c49a8b616d29726afa891",
            "69611f7b89f44dcfa6e6b28c380b2776",
            "5d2db8b785f84be0bfa5121a3ebcfde0",
            "85e54cdb781a4d208883e7d28c620da2",
            "6632ff9f627e4095b88e56d8d2c914db"
          ]
        },
        "id": "5ubd6i4YyDLd",
        "outputId": "5d996314-847b-440b-9c63-fca8b6fdfb57"
      },
      "outputs": [
        {
          "data": {
            "application/vnd.jupyter.widget-view+json": {
              "model_id": "528930c3714e46b1921afd2828ab25e7",
              "version_major": 2,
              "version_minor": 0
            },
            "text/plain": [
              "Loading pipeline components...:   0%|          | 0/7 [00:00<?, ?it/s]"
            ]
          },
          "metadata": {},
          "output_type": "display_data"
        },
        {
          "name": "stdout",
          "output_type": "stream",
          "text": [
            "🚀 Backend running at: NgrokTunnel: \"https://2a76-34-124-221-72.ngrok-free.app\" -> \"http://localhost:5000\"\n",
            " * Serving Flask app '__main__'\n",
            " * Debug mode: off\n"
          ]
        },
        {
          "name": "stderr",
          "output_type": "stream",
          "text": [
            "INFO:werkzeug:\u001b[31m\u001b[1mWARNING: This is a development server. Do not use it in a production deployment. Use a production WSGI server instead.\u001b[0m\n",
            " * Running on http://127.0.0.1:5000\n",
            "INFO:werkzeug:\u001b[33mPress CTRL+C to quit\u001b[0m\n"
          ]
        }
      ],
      "source": [
        "\n",
        "# --- Initialize Models ---\n",
        "\n",
        "# Stable Diffusion (image generation)\n",
        "device = \"cuda\" if torch.cuda.is_available() else \"cpu\"\n",
        "\"\"\"sd_pipe = StableDiffusionPipeline.from_pretrained(\n",
        "    \"runwayml/stable-diffusion-v1-5\", torch_dtype=torch.float16 if device==\"cuda\" else torch.float32\n",
        ").to(device)\"\"\"\n",
        "\n",
        "\"\"\"sd_pipe = StableDiffusionPipeline.from_pretrained(\n",
        "    \"hakurei/waifu-diffusion\", torch_dtype=torch.float16 if device==\"cuda\" else torch.float32\n",
        ").to(device)\"\"\"\n",
        "\n",
        "\"\"\"sd_pipe = StableDiffusionPipeline.from_pretrained(\n",
        "    \"nitrosocke/Arcane-Diffusion\", torch_dtype=torch.float16 if device==\"cuda\" else torch.float32\n",
        ").to(device)\"\"\"\n",
        "\n",
        "sd_pipe = StableDiffusionPipeline.from_pretrained(\n",
        "    \"Lykon/dreamshaper-8\", torch_dtype=torch.float16 if device==\"cuda\" else torch.float32\n",
        ").to(device)\n",
        "\n",
        "# BLIP (caption generation)\n",
        "blip_processor = BlipProcessor.from_pretrained(\"Salesforce/blip-image-captioning-base\")\n",
        "blip_model = BlipForConditionalGeneration.from_pretrained(\"Salesforce/blip-image-captioning-base\").to(device)\n",
        "\n",
        "# --- Helper Functions ---\n",
        "\n",
        "def generate_images(prompt, num_images=5):\n",
        "    image_paths = []\n",
        "    for i in range(num_images):\n",
        "        image = sd_pipe(prompt).images[0]\n",
        "        img_path = f\"img_{i}.png\"\n",
        "        image.save(img_path)\n",
        "        image_paths.append(img_path)\n",
        "    return image_paths\n",
        "\n",
        "def generate_captions(image_paths):\n",
        "    captions = []\n",
        "    for path in image_paths:\n",
        "        raw_image = Image.open(path).convert(\"RGB\")\n",
        "        inputs = blip_processor(raw_image, return_tensors=\"pt\").to(device)\n",
        "        out = blip_model.generate(**inputs)\n",
        "        caption = blip_processor.decode(out[0], skip_special_tokens=True)\n",
        "        captions.append(caption)\n",
        "    return captions\n",
        "\n",
        "\n",
        "# --- Flask App ---\n",
        "\n",
        "app = Flask(__name__)\n",
        "public_url = ngrok.connect(5000)\n",
        "print(\"🚀 Backend running at:\", public_url)\n",
        "\n",
        "@app.route(\"/generate\", methods=[\"POST\"])\n",
        "def generate():\n",
        "    prompt = request.json.get(\"prompt\")\n",
        "\n",
        "    # Clean up old outputs\n",
        "    if os.path.exists(\"output\"): shutil.rmtree(\"output\")\n",
        "    os.makedirs(\"output\", exist_ok=True)\n",
        "\n",
        "    # 1. Generate images\n",
        "    image_paths = generate_images(prompt)\n",
        "\n",
        "    # 2. Generate captions\n",
        "    captions = generate_captions(image_paths)\n",
        "\n",
        "    # 3. Save to output dir\n",
        "    for i, img_path in enumerate(image_paths):\n",
        "        shutil.move(img_path, f\"output/img_{i}.png\")\n",
        "        with open(f\"output/img_{i}.txt\", \"w\") as f:\n",
        "            f.write(captions[i])\n",
        "\n",
        "    # 4. Zip the results\n",
        "    zipf = zipfile.ZipFile(\"output.zip\", 'w')\n",
        "    for file in os.listdir(\"output\"):\n",
        "        zipf.write(os.path.join(\"output\", file), arcname=file)\n",
        "    zipf.close()\n",
        "\n",
        "    # 5. Copy output.zip to Google Drive\n",
        "    google_drive_path = \"/content/drive/MyDrive/GeneratedImages/\" # You can change this path\n",
        "    os.makedirs(google_drive_path, exist_ok=True) # Create the folder if it doesn't exist\n",
        "\n",
        "    # Define a unique filename for the zip file in Google Drive to avoid overwriting\n",
        "    # You might want to add a timestamp or part of the prompt to the filename\n",
        "    #import datetime\n",
        "    #timestamp = datetime.datetime.now().strftime(\"%Y%m%d_%H%M%S\")\n",
        "    #drive_zip_filename = f\"output_{timestamp}.zip\"\n",
        "    shutil.copy(\"output.zip\", os.path.join(google_drive_path, \"output.zip\"))\n",
        "    print(f\"✅ output.zip saved to Google Drive at: {os.path.join(google_drive_path, 'output.zip')}\")\n",
        "\n",
        "\n",
        "    return jsonify({\"download_url\": f\"{public_url}/download\", \"drive_status\": \"File saved to Google Drive\"})\n",
        "\n",
        "@app.route(\"/download\", methods=[\"GET\"])\n",
        "def download():\n",
        "    return send_file(\"output.zip\", as_attachment=True)\n",
        "\n",
        "# Run the Flask app\n",
        "app.run(port=5000)"
      ]
    },
    {
      "cell_type": "code",
      "execution_count": null,
      "metadata": {
        "id": "YBe0dVjd95tX"
      },
      "outputs": [],
      "source": []
    }
  ],
  "metadata": {
    "accelerator": "GPU",
    "colab": {
      "gpuType": "T4",
      "provenance": []
    },
    "kernelspec": {
      "display_name": "Python 3",
      "name": "python3"
    },
    "language_info": {
      "name": "python"
    },
    "widgets": {
      "application/vnd.jupyter.widget-state+json": {
        "07978e494b4648b2adffc86dd58f3714": {
          "model_module": "@jupyter-widgets/controls",
          "model_module_version": "1.5.0",
          "model_name": "HTMLModel",
          "state": {
            "_dom_classes": [],
            "_model_module": "@jupyter-widgets/controls",
            "_model_module_version": "1.5.0",
            "_model_name": "HTMLModel",
            "_view_count": null,
            "_view_module": "@jupyter-widgets/controls",
            "_view_module_version": "1.5.0",
            "_view_name": "HTMLView",
            "description": "",
            "description_tooltip": null,
            "layout": "IPY_MODEL_aa6b5104398f451d959cbbe8b7350ecd",
            "placeholder": "​",
            "style": "IPY_MODEL_3d66ee84458c49a8b616d29726afa891",
            "value": "Loading pipeline components...: 100%"
          }
        },
        "3d66ee84458c49a8b616d29726afa891": {
          "model_module": "@jupyter-widgets/controls",
          "model_module_version": "1.5.0",
          "model_name": "DescriptionStyleModel",
          "state": {
            "_model_module": "@jupyter-widgets/controls",
            "_model_module_version": "1.5.0",
            "_model_name": "DescriptionStyleModel",
            "_view_count": null,
            "_view_module": "@jupyter-widgets/base",
            "_view_module_version": "1.2.0",
            "_view_name": "StyleView",
            "description_width": ""
          }
        },
        "528930c3714e46b1921afd2828ab25e7": {
          "model_module": "@jupyter-widgets/controls",
          "model_module_version": "1.5.0",
          "model_name": "HBoxModel",
          "state": {
            "_dom_classes": [],
            "_model_module": "@jupyter-widgets/controls",
            "_model_module_version": "1.5.0",
            "_model_name": "HBoxModel",
            "_view_count": null,
            "_view_module": "@jupyter-widgets/controls",
            "_view_module_version": "1.5.0",
            "_view_name": "HBoxView",
            "box_style": "",
            "children": [
              "IPY_MODEL_07978e494b4648b2adffc86dd58f3714",
              "IPY_MODEL_640cba1007e64cfca481ce5f8a8171b4",
              "IPY_MODEL_d8adbe355ebe4001a504fcf37b99209c"
            ],
            "layout": "IPY_MODEL_b0517c51eaf5461bbfbc9485463df8aa"
          }
        },
        "5d2db8b785f84be0bfa5121a3ebcfde0": {
          "model_module": "@jupyter-widgets/controls",
          "model_module_version": "1.5.0",
          "model_name": "ProgressStyleModel",
          "state": {
            "_model_module": "@jupyter-widgets/controls",
            "_model_module_version": "1.5.0",
            "_model_name": "ProgressStyleModel",
            "_view_count": null,
            "_view_module": "@jupyter-widgets/base",
            "_view_module_version": "1.2.0",
            "_view_name": "StyleView",
            "bar_color": null,
            "description_width": ""
          }
        },
        "640cba1007e64cfca481ce5f8a8171b4": {
          "model_module": "@jupyter-widgets/controls",
          "model_module_version": "1.5.0",
          "model_name": "FloatProgressModel",
          "state": {
            "_dom_classes": [],
            "_model_module": "@jupyter-widgets/controls",
            "_model_module_version": "1.5.0",
            "_model_name": "FloatProgressModel",
            "_view_count": null,
            "_view_module": "@jupyter-widgets/controls",
            "_view_module_version": "1.5.0",
            "_view_name": "ProgressView",
            "bar_style": "success",
            "description": "",
            "description_tooltip": null,
            "layout": "IPY_MODEL_69611f7b89f44dcfa6e6b28c380b2776",
            "max": 7,
            "min": 0,
            "orientation": "horizontal",
            "style": "IPY_MODEL_5d2db8b785f84be0bfa5121a3ebcfde0",
            "value": 7
          }
        },
        "6632ff9f627e4095b88e56d8d2c914db": {
          "model_module": "@jupyter-widgets/controls",
          "model_module_version": "1.5.0",
          "model_name": "DescriptionStyleModel",
          "state": {
            "_model_module": "@jupyter-widgets/controls",
            "_model_module_version": "1.5.0",
            "_model_name": "DescriptionStyleModel",
            "_view_count": null,
            "_view_module": "@jupyter-widgets/base",
            "_view_module_version": "1.2.0",
            "_view_name": "StyleView",
            "description_width": ""
          }
        },
        "69611f7b89f44dcfa6e6b28c380b2776": {
          "model_module": "@jupyter-widgets/base",
          "model_module_version": "1.2.0",
          "model_name": "LayoutModel",
          "state": {
            "_model_module": "@jupyter-widgets/base",
            "_model_module_version": "1.2.0",
            "_model_name": "LayoutModel",
            "_view_count": null,
            "_view_module": "@jupyter-widgets/base",
            "_view_module_version": "1.2.0",
            "_view_name": "LayoutView",
            "align_content": null,
            "align_items": null,
            "align_self": null,
            "border": null,
            "bottom": null,
            "display": null,
            "flex": null,
            "flex_flow": null,
            "grid_area": null,
            "grid_auto_columns": null,
            "grid_auto_flow": null,
            "grid_auto_rows": null,
            "grid_column": null,
            "grid_gap": null,
            "grid_row": null,
            "grid_template_areas": null,
            "grid_template_columns": null,
            "grid_template_rows": null,
            "height": null,
            "justify_content": null,
            "justify_items": null,
            "left": null,
            "margin": null,
            "max_height": null,
            "max_width": null,
            "min_height": null,
            "min_width": null,
            "object_fit": null,
            "object_position": null,
            "order": null,
            "overflow": null,
            "overflow_x": null,
            "overflow_y": null,
            "padding": null,
            "right": null,
            "top": null,
            "visibility": null,
            "width": null
          }
        },
        "85e54cdb781a4d208883e7d28c620da2": {
          "model_module": "@jupyter-widgets/base",
          "model_module_version": "1.2.0",
          "model_name": "LayoutModel",
          "state": {
            "_model_module": "@jupyter-widgets/base",
            "_model_module_version": "1.2.0",
            "_model_name": "LayoutModel",
            "_view_count": null,
            "_view_module": "@jupyter-widgets/base",
            "_view_module_version": "1.2.0",
            "_view_name": "LayoutView",
            "align_content": null,
            "align_items": null,
            "align_self": null,
            "border": null,
            "bottom": null,
            "display": null,
            "flex": null,
            "flex_flow": null,
            "grid_area": null,
            "grid_auto_columns": null,
            "grid_auto_flow": null,
            "grid_auto_rows": null,
            "grid_column": null,
            "grid_gap": null,
            "grid_row": null,
            "grid_template_areas": null,
            "grid_template_columns": null,
            "grid_template_rows": null,
            "height": null,
            "justify_content": null,
            "justify_items": null,
            "left": null,
            "margin": null,
            "max_height": null,
            "max_width": null,
            "min_height": null,
            "min_width": null,
            "object_fit": null,
            "object_position": null,
            "order": null,
            "overflow": null,
            "overflow_x": null,
            "overflow_y": null,
            "padding": null,
            "right": null,
            "top": null,
            "visibility": null,
            "width": null
          }
        },
        "aa6b5104398f451d959cbbe8b7350ecd": {
          "model_module": "@jupyter-widgets/base",
          "model_module_version": "1.2.0",
          "model_name": "LayoutModel",
          "state": {
            "_model_module": "@jupyter-widgets/base",
            "_model_module_version": "1.2.0",
            "_model_name": "LayoutModel",
            "_view_count": null,
            "_view_module": "@jupyter-widgets/base",
            "_view_module_version": "1.2.0",
            "_view_name": "LayoutView",
            "align_content": null,
            "align_items": null,
            "align_self": null,
            "border": null,
            "bottom": null,
            "display": null,
            "flex": null,
            "flex_flow": null,
            "grid_area": null,
            "grid_auto_columns": null,
            "grid_auto_flow": null,
            "grid_auto_rows": null,
            "grid_column": null,
            "grid_gap": null,
            "grid_row": null,
            "grid_template_areas": null,
            "grid_template_columns": null,
            "grid_template_rows": null,
            "height": null,
            "justify_content": null,
            "justify_items": null,
            "left": null,
            "margin": null,
            "max_height": null,
            "max_width": null,
            "min_height": null,
            "min_width": null,
            "object_fit": null,
            "object_position": null,
            "order": null,
            "overflow": null,
            "overflow_x": null,
            "overflow_y": null,
            "padding": null,
            "right": null,
            "top": null,
            "visibility": null,
            "width": null
          }
        },
        "b0517c51eaf5461bbfbc9485463df8aa": {
          "model_module": "@jupyter-widgets/base",
          "model_module_version": "1.2.0",
          "model_name": "LayoutModel",
          "state": {
            "_model_module": "@jupyter-widgets/base",
            "_model_module_version": "1.2.0",
            "_model_name": "LayoutModel",
            "_view_count": null,
            "_view_module": "@jupyter-widgets/base",
            "_view_module_version": "1.2.0",
            "_view_name": "LayoutView",
            "align_content": null,
            "align_items": null,
            "align_self": null,
            "border": null,
            "bottom": null,
            "display": null,
            "flex": null,
            "flex_flow": null,
            "grid_area": null,
            "grid_auto_columns": null,
            "grid_auto_flow": null,
            "grid_auto_rows": null,
            "grid_column": null,
            "grid_gap": null,
            "grid_row": null,
            "grid_template_areas": null,
            "grid_template_columns": null,
            "grid_template_rows": null,
            "height": null,
            "justify_content": null,
            "justify_items": null,
            "left": null,
            "margin": null,
            "max_height": null,
            "max_width": null,
            "min_height": null,
            "min_width": null,
            "object_fit": null,
            "object_position": null,
            "order": null,
            "overflow": null,
            "overflow_x": null,
            "overflow_y": null,
            "padding": null,
            "right": null,
            "top": null,
            "visibility": null,
            "width": null
          }
        },
        "d8adbe355ebe4001a504fcf37b99209c": {
          "model_module": "@jupyter-widgets/controls",
          "model_module_version": "1.5.0",
          "model_name": "HTMLModel",
          "state": {
            "_dom_classes": [],
            "_model_module": "@jupyter-widgets/controls",
            "_model_module_version": "1.5.0",
            "_model_name": "HTMLModel",
            "_view_count": null,
            "_view_module": "@jupyter-widgets/controls",
            "_view_module_version": "1.5.0",
            "_view_name": "HTMLView",
            "description": "",
            "description_tooltip": null,
            "layout": "IPY_MODEL_85e54cdb781a4d208883e7d28c620da2",
            "placeholder": "​",
            "style": "IPY_MODEL_6632ff9f627e4095b88e56d8d2c914db",
            "value": " 7/7 [00:23&lt;00:00,  3.34s/it]"
          }
        }
      }
    }
  },
  "nbformat": 4,
  "nbformat_minor": 0
}
